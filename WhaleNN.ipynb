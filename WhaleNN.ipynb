{
 "cells": [
  {
   "cell_type": "code",
   "execution_count": 24,
   "metadata": {},
   "outputs": [],
   "source": [
    "import tensorflow as tf\n",
    "import cv2 \n",
    "import numpy as np\n",
    "import os \n",
    "import pandas as pd"
   ]
  },
  {
   "cell_type": "code",
   "execution_count": 25,
   "metadata": {},
   "outputs": [],
   "source": [
    "TRAIN_DIR =\"/home/nullhack/Workspace/Whales/all\"\n",
    "df = pd.read_csv('/home/nullhack/Workspace/Whales/all/train.csv')"
   ]
  },
  {
   "cell_type": "code",
   "execution_count": 26,
   "metadata": {},
   "outputs": [
    {
     "data": {
      "text/plain": [
       "0       w_e15442c\n",
       "1       w_1287fbc\n",
       "2       w_da2efe0\n",
       "3       w_19e5482\n",
       "4       w_f22f3e3\n",
       "5       w_8b1ca89\n",
       "6       w_eaad6a8\n",
       "7       new_whale\n",
       "8       w_3d0bc7a\n",
       "9       w_50db782\n",
       "10      w_2863d51\n",
       "11      w_6dc7db6\n",
       "12      w_968f2ca\n",
       "13      w_fd1cb9d\n",
       "14      w_60759c2\n",
       "15      w_ab6bb0a\n",
       "16      w_79b42cd\n",
       "17      w_c9ba30c\n",
       "18      w_e6ec8ee\n",
       "19      new_whale\n",
       "20      new_whale\n",
       "21      w_7e5cc5e\n",
       "22      w_ab6db0f\n",
       "23      w_bc8d634\n",
       "24      w_b59c523\n",
       "25      w_2850471\n",
       "26      new_whale\n",
       "27      w_51969d2\n",
       "28      w_4be8a3e\n",
       "29      w_c0cfd5b\n",
       "          ...    \n",
       "9820    new_whale\n",
       "9821    w_8ba2066\n",
       "9822    w_6734e40\n",
       "9823    w_f5eb6c6\n",
       "9824    w_9d5f5cc\n",
       "9825    w_a16b600\n",
       "9826    w_2d99a0c\n",
       "9827    w_f3bd33a\n",
       "9828    w_17ee910\n",
       "9829    w_4f0676a\n",
       "9830    w_b426ff3\n",
       "9831    w_41afa58\n",
       "9832    w_0f20cbc\n",
       "9833    w_372ae75\n",
       "9834    w_eb0a6ed\n",
       "9835    w_edf5f77\n",
       "9836    w_89d9c03\n",
       "9837    new_whale\n",
       "9838    w_a190b3b\n",
       "9839    w_73b26b7\n",
       "9840    w_ace8c54\n",
       "9841    w_fce6ab2\n",
       "9842    w_41a260a\n",
       "9843    w_6249155\n",
       "9844    new_whale\n",
       "9845    w_2ceab05\n",
       "9846    w_b067417\n",
       "9847    w_8b56cb1\n",
       "9848    w_2dcbf82\n",
       "9849    w_b9bfd4e\n",
       "Name: Id, Length: 9850, dtype: object"
      ]
     },
     "execution_count": 26,
     "metadata": {},
     "output_type": "execute_result"
    }
   ],
   "source": [
    "labels = df['Id']\n",
    "labels\n"
   ]
  },
  {
   "cell_type": "code",
   "execution_count": null,
   "metadata": {},
   "outputs": [],
   "source": []
  },
  {
   "cell_type": "code",
   "execution_count": 23,
   "metadata": {},
   "outputs": [],
   "source": [
    "def labels(img):\n",
    "    global labels\n",
    "    global df\n",
    "    retList = np.zeros(4251)\n",
    "    word_label = img.split('.')[0]\n",
    "    index = -1\n",
    "    for i in range (0,4250):\n",
    "        if(word_label == labels[i]):\n",
    "            index = i\n",
    "            break\n",
    "    retList[index] = 1\n",
    "    return retList\n",
    "\n",
    "        \n",
    "    "
   ]
  },
  {
   "cell_type": "code",
   "execution_count": null,
   "metadata": {},
   "outputs": [],
   "source": []
  }
 ],
 "metadata": {
  "kernelspec": {
   "display_name": "Python 3",
   "language": "python",
   "name": "python3"
  },
  "language_info": {
   "codemirror_mode": {
    "name": "ipython",
    "version": 3
   },
   "file_extension": ".py",
   "mimetype": "text/x-python",
   "name": "python",
   "nbconvert_exporter": "python",
   "pygments_lexer": "ipython3",
   "version": "3.6.5"
  }
 },
 "nbformat": 4,
 "nbformat_minor": 2
}
